{
  "metadata": {
    "language_info": {
      "codemirror_mode": {
        "name": "python",
        "version": 3
      },
      "file_extension": ".py",
      "mimetype": "text/x-python",
      "name": "python",
      "nbconvert_exporter": "python",
      "pygments_lexer": "ipython3",
      "version": "3.8"
    },
    "kernelspec": {
      "name": "python",
      "display_name": "Python (Pyodide)",
      "language": "python"
    }
  },
  "nbformat_minor": 4,
  "nbformat": 4,
  "cells": [
    {
      "cell_type": "code",
      "source": "from IPython.display import HTML\nfrom matplotlib.patches import Rectangle\nimport matplotlib.pyplot as plt\n\ndef gnome_sort(arr):\n    i = 0\n    while i < len(arr):\n        if i == 0 or arr[i] >= arr[i - 1]:\n            i += 1\n        else:\n            arr[i], arr[i - 1] = arr[i - 1], arr[i]\n            i -= 1\n    return arr\n\n# Тестові приклади\ndef test_gnome_sort():\n    input1 = [5, 3, 78, 3, 23, 7, 34]\n    output1 = gnome_sort(input1)\n    print(output1)\n\n    input2 = [10, 2, 8, 5, 1, 9]\n    output2 = gnome_sort(input2)\n    print(output2)\n\n    input3 = [15, 20, 10, 5, 30]\n    output3 = gnome_sort(input3)\n    print(output3)\n\ntest_gnome_sort()\ncountry_info = \"\"\"\n# Інформація про Грузію\n\n## Площина\nГрузія має площу приблизно 69,700 квадратних кілометрів.\n\n## Населення\nЗгідно останніх підрахунків, населення Грузії становить близько 3,7 мільйонів людей.\n\n## Державний устрій\nГрузія є парламентською республікою.\n\n## Видатні персоналії\n- **Михаіл Саакашвілі**: колишній президент Грузії.\n- **Грузійські поети**: Шота Руставелі, Отар Чіладзе, ін.\n\n## Пам'ятки культури та природи\n- Старовинне місто Мцхета (Світова спадщина ЮНЕСКО).\n- Гора Казбегі в Кавказьких горах.\n- Синевирське озеро.\n\n## Флаг Грузії\n<svg width=\"150\" height=\"100\">\n    <rect width=\"100%\" height=\"30%\" fill=\"#5B92E5\" />\n    <rect width=\"100%\" height=\"30%\" y=\"30%\" fill=\"#FFFFFF\" />\n    <rect width=\"100%\" height=\"30%\" y=\"60%\" fill=\"#FF1E1E\" />\n</svg>\n\n[Докладніше про Грузію](https://uk.wikipedia.org/wiki/%D0%93%D1%80%D1%83%D0%B7%D1%96%D1%8F)\n\n\"\"\"\n\n# Display the country information\nHTML(country_info)\n\n# HTML code for information about Georgia\ngeorgia_info_html = \"\"\"\n<h1>Інформація про Грузію</h1>\n\n<h2>Загальна інформація</h2>\n<ul>\n    <li><strong>Площа</strong>: Грузія має площу приблизно 69,700 квадратних кілометрів.</li>\n    <li><strong>Населення</strong>: Згідно останніх підрахунків, населення Грузії становить близько 3,7 мільйонів людей.</li>\n    <li><strong>Державний устрій</strong>: Грузія є парламентською республікою.</li>\n</ul>\n\n<h2>Видатні персоналії</h2>\n<ul>\n    <li><em>Михаіл Саакашвілі</em>: колишній президент Грузії.</li>\n    <li><em>Грузійські поети</em>: Шота Руставелі, Отар Чіладзе, інші.</li>\n</ul>\n\n<h2>Пам'ятки культури та природи</h2>\n<ul>\n    <li>Старовинне місто Мцхета (включено до списку Світової спадщини ЮНЕСКО).</li>\n    <li>Гора Казбегі в Кавказьких горах.</li>\n    <li>Синевирське озеро.</li>\n</ul>\n\n<h2>Флаг Грузії</h2>\n<svg width=\"150\" height=\"100\">\n    <rect width=\"100%\" height=\"30%\" fill=\"#5B92E5\" />\n    <rect width=\"100%\" height=\"30%\" y=\"30%\" fill=\"#FFFFFF\" />\n    <rect width=\"100%\" height=\"30%\" y=\"60%\" fill=\"#FF1E1E\" />\n</svg>\n\n<h2>Галерея зображень</h2>\n<img src=\"посилання_на_картинку_грузії.jpg\" alt=\"Грузія\">\n\n<h2>Гіперпосилання</h2>\n<p><a href=\"https://uk.wikipedia.org/wiki/%D0%93%D1%80%D1%83%D0%B7%D1%96%D1%8F\">Докладніше про Грузію в Вікіпедії</a></p>\n\"\"\"\n\n# Display the HTML code in Jupyter Notebook\nHTML(georgia_info_html)\n",
      "metadata": {
        "trusted": true
      },
      "execution_count": 1,
      "outputs": [
        {
          "name": "stdout",
          "text": "[3, 3, 5, 7, 23, 34, 78]\n[1, 2, 5, 8, 9, 10]\n[5, 10, 15, 20, 30]\n",
          "output_type": "stream"
        },
        {
          "execution_count": 1,
          "output_type": "execute_result",
          "data": {
            "text/plain": "<IPython.core.display.HTML object>",
            "text/html": "\n<h1>Інформація про Грузію</h1>\n\n<h2>Загальна інформація</h2>\n<ul>\n    <li><strong>Площа</strong>: Грузія має площу приблизно 69,700 квадратних кілометрів.</li>\n    <li><strong>Населення</strong>: Згідно останніх підрахунків, населення Грузії становить близько 3,7 мільйонів людей.</li>\n    <li><strong>Державний устрій</strong>: Грузія є парламентською республікою.</li>\n</ul>\n\n<h2>Видатні персоналії</h2>\n<ul>\n    <li><em>Михаіл Саакашвілі</em>: колишній президент Грузії.</li>\n    <li><em>Грузійські поети</em>: Шота Руставелі, Отар Чіладзе, інші.</li>\n</ul>\n\n<h2>Пам'ятки культури та природи</h2>\n<ul>\n    <li>Старовинне місто Мцхета (включено до списку Світової спадщини ЮНЕСКО).</li>\n    <li>Гора Казбегі в Кавказьких горах.</li>\n    <li>Синевирське озеро.</li>\n</ul>\n\n<h2>Флаг Грузії</h2>\n<svg width=\"150\" height=\"100\">\n    <rect width=\"100%\" height=\"30%\" fill=\"#5B92E5\" />\n    <rect width=\"100%\" height=\"30%\" y=\"30%\" fill=\"#FFFFFF\" />\n    <rect width=\"100%\" height=\"30%\" y=\"60%\" fill=\"#FF1E1E\" />\n</svg>\n\n<h2>Галерея зображень</h2>\n<img src=\"посилання_на_картинку_грузії.jpg\" alt=\"Грузія\">\n\n<h2>Гіперпосилання</h2>\n<p><a href=\"https://uk.wikipedia.org/wiki/%D0%93%D1%80%D1%83%D0%B7%D1%96%D1%8F\">Докладніше про Грузію в Вікіпедії</a></p>\n"
          },
          "metadata": {}
        }
      ]
    },
    {
      "cell_type": "code",
      "source": "",
      "metadata": {},
      "execution_count": null,
      "outputs": []
    }
  ]
}